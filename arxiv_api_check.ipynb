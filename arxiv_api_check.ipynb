{
 "cells": [
  {
   "cell_type": "code",
   "execution_count": 1,
   "id": "02553da0",
   "metadata": {},
   "outputs": [],
   "source": [
    "import arxiv"
   ]
  },
  {
   "cell_type": "code",
   "execution_count": 2,
   "id": "40cae5dc",
   "metadata": {},
   "outputs": [],
   "source": [
    "client = arxiv.Client()"
   ]
  },
  {
   "cell_type": "code",
   "execution_count": 3,
   "id": "59f33003",
   "metadata": {},
   "outputs": [],
   "source": [
    "search = arxiv.Search(\n",
    "    query=\"quantum\",\n",
    "    max_results=2,\n",
    "    sort_by=arxiv.SortCriterion.SubmittedDate\n",
    ")"
   ]
  },
  {
   "cell_type": "code",
   "execution_count": 4,
   "id": "5529a84b",
   "metadata": {},
   "outputs": [],
   "source": [
    "results = client.results(search)"
   ]
  },
  {
   "cell_type": "code",
   "execution_count": 5,
   "id": "d6422f08",
   "metadata": {},
   "outputs": [
    {
     "name": "stdout",
     "output_type": "stream",
     "text": [
      "Quantum computational sensing using quantum signal processing, quantum neural networks, and Hamiltonian engineering\n",
      "TASI/CERN/KITP Lecture Notes on \"Toward Quantum Computing Gauge Theories of Nature\"\n"
     ]
    }
   ],
   "source": [
    "for r in client.results(search):\n",
    "    print(r.title)"
   ]
  },
  {
   "cell_type": "code",
   "execution_count": 8,
   "id": "64c2da44",
   "metadata": {},
   "outputs": [],
   "source": [
    "import os\n",
    "os.makedirs(\"Check\", exist_ok=True)\n",
    "\n",
    "for r in results:\n",
    "    paper = r\n",
    "    paper.download_pdf(dirpath=\"Check\")"
   ]
  }
 ],
 "metadata": {
  "kernelspec": {
   "display_name": "adobe",
   "language": "python",
   "name": "python3"
  },
  "language_info": {
   "codemirror_mode": {
    "name": "ipython",
    "version": 3
   },
   "file_extension": ".py",
   "mimetype": "text/x-python",
   "name": "python",
   "nbconvert_exporter": "python",
   "pygments_lexer": "ipython3",
   "version": "3.11.13"
  }
 },
 "nbformat": 4,
 "nbformat_minor": 5
}
